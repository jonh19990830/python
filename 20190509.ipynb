{
 "cells": [
  {
   "cell_type": "markdown",
   "metadata": {},
   "source": [
    "# whike迴圈\n",
    "## 1+2+3+...+10的總和"
   ]
  },
  {
   "cell_type": "code",
   "execution_count": 1,
   "metadata": {},
   "outputs": [
    {
     "name": "stdout",
     "output_type": "stream",
     "text": [
      "1+2+3+...+10= 55\n"
     ]
    }
   ],
   "source": [
    "sum =0 \n",
    "count=1\n",
    "while count <=10:\n",
    "    sum = sum + count # sum +=count\n",
    "    count = count +1 #count+=1\n",
    "print('1+2+3+...+10=',sum)    "
   ]
  },
  {
   "cell_type": "markdown",
   "metadata": {},
   "source": [
    "# 銀行利息範例"
   ]
  },
  {
   "cell_type": "code",
   "execution_count": 3,
   "metadata": {},
   "outputs": [
    {
     "name": "stdout",
     "output_type": "stream",
     "text": [
      "67 年後,存款金額會加倍\n"
     ]
    }
   ],
   "source": [
    "x =10000\n",
    "year = 0\n",
    "while x<20000:\n",
    "    year +=1\n",
    "    x = x*1.0104\n",
    "print(str(year),'年後,存款金額會加倍')"
   ]
  },
  {
   "cell_type": "markdown",
   "metadata": {},
   "source": [
    "# 帳號密碼程式"
   ]
  },
  {
   "cell_type": "code",
   "execution_count": 5,
   "metadata": {},
   "outputs": [
    {
     "name": "stdout",
     "output_type": "stream",
     "text": [
      "請輸入帳號john\n",
      "請輸入密碼1234\n",
      "歡迎登入\n"
     ]
    }
   ],
   "source": [
    "id='john'\n",
    "pwd='1234'\n",
    "while True:\n",
    "    x=input('請輸入帳號')\n",
    "    y=input('請輸入密碼')\n",
    "    if(x==id and y==pwd):\n",
    "        print('歡迎登入')\n",
    "        break\n",
    "    else:\n",
    "        print('帳號/密碼輸入錯誤')"
   ]
  },
  {
   "cell_type": "markdown",
   "metadata": {},
   "source": [
    "# break ,continue,pass 範例"
   ]
  },
  {
   "cell_type": "code",
   "execution_count": 8,
   "metadata": {},
   "outputs": [
    {
     "name": "stdout",
     "output_type": "stream",
     "text": [
      "c#\n",
      "Python\n"
     ]
    }
   ],
   "source": [
    "mylist=['c#','Python','Java','C++']\n",
    "for i in mylist:\n",
    "    if i =='Java':\n",
    "        break\n",
    "    else:\n",
    "        print(i)"
   ]
  },
  {
   "cell_type": "code",
   "execution_count": 9,
   "metadata": {},
   "outputs": [
    {
     "name": "stdout",
     "output_type": "stream",
     "text": [
      "c#\n",
      "Python\n",
      "C++\n"
     ]
    }
   ],
   "source": [
    "mylist=['c#','Python','Java','C++']\n",
    "for i in mylist:\n",
    "    if i =='Java':\n",
    "        continue\n",
    "    else:\n",
    "        print(i)"
   ]
  },
  {
   "cell_type": "code",
   "execution_count": 10,
   "metadata": {},
   "outputs": [
    {
     "name": "stdout",
     "output_type": "stream",
     "text": [
      "c#\n",
      "Python\n",
      "C++\n"
     ]
    }
   ],
   "source": [
    "mylist=['c#','Python','Java','C++']\n",
    "for i in mylist:\n",
    "    if i =='Java':\n",
    "        pass\n",
    "    else:\n",
    "        print(i)"
   ]
  },
  {
   "cell_type": "markdown",
   "metadata": {},
   "source": [
    "# Random範例"
   ]
  },
  {
   "cell_type": "code",
   "execution_count": 11,
   "metadata": {},
   "outputs": [
    {
     "name": "stdout",
     "output_type": "stream",
     "text": [
      "0.9795991055567684\n",
      "0.10139702123073746\n",
      "0.40951493587735266\n",
      "0.3664196089721504\n",
      "0.6770215979868924\n",
      "0.6730943948371945\n",
      "0.07495872928902292\n",
      "0.4127854579143274\n",
      "0.2861385324321559\n",
      "0.6216273757163463\n"
     ]
    }
   ],
   "source": [
    "import random\n",
    "for i in range(0,10):\n",
    "    print(random.random())"
   ]
  },
  {
   "cell_type": "code",
   "execution_count": 12,
   "metadata": {},
   "outputs": [
    {
     "name": "stdout",
     "output_type": "stream",
     "text": [
      "請輸入1-99的數字(q離開)14\n",
      "猜錯了\n",
      "請輸入1-99的數字(q離開)15\n",
      "猜錯了\n",
      "請輸入1-99的數字(q離開)66\n",
      "猜錯了\n",
      "請輸入1-99的數字(q離開)65\n",
      "猜錯了\n",
      "請輸入1-99的數字(q離開)q\n",
      "離開遊戲,正確數字是 63\n"
     ]
    }
   ],
   "source": [
    "import random\n",
    "number = random.randint(1,99)\n",
    "while True:\n",
    "    guess = input('請輸入1-99的數字(q離開)')\n",
    "    if guess =='q':\n",
    "        print('離開遊戲,正確數字是',number)\n",
    "        break\n",
    "    else:\n",
    "        if number ==int(guess):\n",
    "            print('恭喜,猜對了')\n",
    "            break\n",
    "        else:\n",
    "            print('猜錯了')\n",
    "            "
   ]
  },
  {
   "cell_type": "code",
   "execution_count": null,
   "metadata": {},
   "outputs": [],
   "source": []
  }
 ],
 "metadata": {
  "kernelspec": {
   "display_name": "Python 3",
   "language": "python",
   "name": "python3"
  },
  "language_info": {
   "codemirror_mode": {
    "name": "ipython",
    "version": 3
   },
   "file_extension": ".py",
   "mimetype": "text/x-python",
   "name": "python",
   "nbconvert_exporter": "python",
   "pygments_lexer": "ipython3",
   "version": "3.7.1"
  }
 },
 "nbformat": 4,
 "nbformat_minor": 2
}
